{
 "cells": [
  {
   "cell_type": "code",
   "execution_count": 2,
   "id": "7620fbc0",
   "metadata": {},
   "outputs": [],
   "source": [
    "from pathlib import Path\n"
   ]
  },
  {
   "cell_type": "code",
   "execution_count": 3,
   "id": "f7f88764",
   "metadata": {},
   "outputs": [
    {
     "name": "stdout",
     "output_type": "stream",
     "text": [
      "__main__\n"
     ]
    }
   ],
   "source": [
    "print(Path(__name__))"
   ]
  },
  {
   "cell_type": "code",
   "execution_count": 4,
   "id": "8c8b6826",
   "metadata": {},
   "outputs": [],
   "source": [
    "main_path = Path(__name__).resolve().parent.parent\n",
    "vectordb_path = main_path/\"db\"\n",
    "knowledge_base_path = main_path/\"restaurant_details\"\n"
   ]
  },
  {
   "cell_type": "code",
   "execution_count": 8,
   "id": "16346770",
   "metadata": {},
   "outputs": [
    {
     "name": "stdout",
     "output_type": "stream",
     "text": [
      "/home/theurieric/Desktop/DirectEd/projects/2000-habesha_2.0/chatbot/restaurant_details\n"
     ]
    }
   ],
   "source": [
    "print(knowledge_base_path)"
   ]
  },
  {
   "cell_type": "code",
   "execution_count": 5,
   "id": "6e29a4c6",
   "metadata": {},
   "outputs": [],
   "source": [
    "knowledge_base_path.exists()\n",
    "from langchain_community.document_loaders import DirectoryLoader, PDFPlumberLoader"
   ]
  },
  {
   "cell_type": "code",
   "execution_count": 6,
   "id": "1790cc13",
   "metadata": {},
   "outputs": [],
   "source": [
    "pdf_loader = DirectoryLoader(\n",
    "    knowledge_base_path,\n",
    "    glob=\"*.pdf\",\n",
    "    loader_cls=PDFPlumberLoader\n",
    "\n",
    ").load()"
   ]
  },
  {
   "cell_type": "code",
   "execution_count": 7,
   "id": "ef54e687",
   "metadata": {},
   "outputs": [
    {
     "data": {
      "text/plain": [
       "[Document(metadata={'source': '/home/theurieric/Desktop/DirectEd/projects/2000-habesha_2.0/chatbot/restaurant_details/restaurant_menu_llama.pdf', 'file_path': '/home/theurieric/Desktop/DirectEd/projects/2000-habesha_2.0/chatbot/restaurant_details/restaurant_menu_llama.pdf', 'page': 0, 'total_pages': 1, 'Author': 'anonymous', 'CreationDate': \"D:20250711100929+00'00'\", 'Creator': 'ReportLab PDF Library - www.reportlab.com', 'Keywords': '', 'ModDate': \"D:20250711100929+00'00'\", 'Producer': 'ReportLab PDF Library - www.reportlab.com', 'Subject': 'unspecified', 'Title': 'untitled', 'Trapped': 'False'}, page_content='2000 Habesha Cultural Restaurant - Menu Summary for LLM Use\\nMain Dishes:\\n- Kitfo: Minced raw beef, seasoned with spices and herbed butter. 2000 ETB\\n- Kuanta Firfir: Dried beef strips with injera in berbere sauce. 1500 ETB\\n- Shekla Tibs: Pan-fried meat with onions, garlic, spices. 1500 ETB\\n- Dulet: Minced tripe, liver, lean beef with spices. 2000 ETB\\n- Tire Sega: Raw beef cubes with spices and injera. 3000 ETB\\n- Maheberawi: Mixed meat-based platter with injera. 2090 ETB\\n- Gored Gored: Cubed raw beef with mitmita and awaze. 2090 ETB\\n- Bozena Shiro: Spiced chickpeas and beef stew. 1090 ETB\\n- Beg Tibs: Sautéed lamb with onions and spices. 1980 ETB\\n- Fasting Beyeaynet: Vegetarian platter with stews. 950 ETB\\n- Doro Wot: Rich and spicy chicken stew. 950 ETB\\n- Gomen Kitfo: Chopped greens with sides and spices. 1980 ETB\\nDrinks:\\n- Special Tej: 1200 ETB\\n- Ethiopian Coffee: 60 ETB\\n- Acacia Wine: 900 ETB\\n- Tela: 200 ETB\\nKitfo Dish Details:\\n- Main Ingredients: Raw beef, Mitmita (chili blend), Niter Kibbeh (spiced clarified butter)\\n- Accompaniments: Ayib (cheese), Gomen (greens), Injera, Kocho, Lentils, Salads\\n'),\n",
       " Document(metadata={'source': '/home/theurieric/Desktop/DirectEd/projects/2000-habesha_2.0/chatbot/restaurant_details/restaurant_operations_llama.pdf', 'file_path': '/home/theurieric/Desktop/DirectEd/projects/2000-habesha_2.0/chatbot/restaurant_details/restaurant_operations_llama.pdf', 'page': 0, 'total_pages': 1, 'Producer': 'PyFPDF 1.7.2 http://pyfpdf.googlecode.com/', 'CreationDate': 'D:20250711101429'}, page_content=\"Restaurant Operations Summary (Optimized for LLM)\\nOpening Hours:\\n- Open daily from 10:00 AM to 11:00 PM.\\nReservation Process:\\n1. Go to website > 'Make Your Reservation'.\\n2. Enter:\\n- Full Name\\n- Phone Number\\n- Email Address\\n3. Specify:\\n- Number of Guests\\n- Preferred Date and Time\\n4. Click 'Reserve Now'.\\n5. Receive email confirmation within 1 hour.\\nContact for Questions/Special Requests:\\n- Phone: +251 912 838 383\\n\"),\n",
       " Document(metadata={'source': '/home/theurieric/Desktop/DirectEd/projects/2000-habesha_2.0/chatbot/restaurant_details/restaurant_details_llama.pdf', 'file_path': '/home/theurieric/Desktop/DirectEd/projects/2000-habesha_2.0/chatbot/restaurant_details/restaurant_details_llama.pdf', 'page': 0, 'total_pages': 1, 'Author': 'anonymous', 'CreationDate': \"D:20250711100929+00'00'\", 'Creator': 'ReportLab PDF Library - www.reportlab.com', 'Keywords': '', 'ModDate': \"D:20250711100929+00'00'\", 'Producer': 'ReportLab PDF Library - www.reportlab.com', 'Subject': 'unspecified', 'Title': 'untitled', 'Trapped': 'False'}, page_content='2000 Habesha Cultural Restaurant - Summary for LLM Use\\nLocation:\\n- Addis Ababa, Namibia St., Bole Atlas\\nIdentity:\\n- Authentic Ethiopian experience in the heart of Addis Ababa.\\n- Family-owned, culturally inspired.\\nCore Offerings:\\n- Handmade Injera\\n- Traditional Ethiopian spices and dishes\\n- Live music and cultural dance performances at night\\nAmbience:\\n- Warm, welcoming, homely\\n- Traditional mesob baskets for communal dining\\n- Decor rooted in Ethiopian heritage\\nStudent Discount Policy:\\n- 10% off for students with valid school ID\\n- Valid Monday to Friday\\n- Dine-in only\\n- Not valid with promotional combos or special events\\nContact:\\n- Email: habesha2000@gmail.com\\n- Phone: +251 912 838 383\\nTeam Ethos:\\n- Multigenerational culinary team\\n- Unified by goal: Deliver authentic Ethiopian hospitality\\n'),\n",
       " Document(metadata={'source': '/home/theurieric/Desktop/DirectEd/projects/2000-habesha_2.0/chatbot/restaurant_details/restaurant_faq_llama.pdf', 'file_path': '/home/theurieric/Desktop/DirectEd/projects/2000-habesha_2.0/chatbot/restaurant_details/restaurant_faq_llama.pdf', 'page': 0, 'total_pages': 2, 'Producer': 'PyFPDF 1.7.2 http://pyfpdf.googlecode.com/', 'CreationDate': 'D:20250711101429'}, page_content=\"Restaurant FAQ (Optimized for LLM)\\nQ: What are your opening hours?\\nA: 10:00 AM to 11:00 PM, every day (Sunday to Sunday).\\nQ: Where is the restaurant located?\\nA: Namibia Street, Bole Atlas area, Addis Ababa.\\nQ: How do I make a reservation?\\nA:\\n1. Visit our website > 'Make Your Reservation'.\\n2. Fill in: Full Name, Phone Number, Email.\\n3. Choose: Number of guests, Date, Time.\\n4. Click 'Reserve Now'.\\n5. Confirmation via email within 1 hour.\\nQ: Do you offer student discounts?\\nA: Yes. 10% off with valid student ID. (Mon-Fri, dine-in only, not valid on promos/special menus.)\\nQ: What makes the restaurant unique?\\nA:\\n- Handmade injera, locally sourced spices.\\n- Communal dining (mesob baskets).\\n- Live music & traditional dance (every evening).\\n- Warm, family-style hospitality.\\nQ: Describe the restaurant's brand voice.\\n\"),\n",
       " Document(metadata={'source': '/home/theurieric/Desktop/DirectEd/projects/2000-habesha_2.0/chatbot/restaurant_details/restaurant_faq_llama.pdf', 'file_path': '/home/theurieric/Desktop/DirectEd/projects/2000-habesha_2.0/chatbot/restaurant_details/restaurant_faq_llama.pdf', 'page': 1, 'total_pages': 2, 'Producer': 'PyFPDF 1.7.2 http://pyfpdf.googlecode.com/', 'CreationDate': 'D:20250711101429'}, page_content='A: Simple, humble, welcoming. Sincere and respectful-like family.\\nQ: What are your featured dishes?\\nA: Kitfo, Kuanta Firfir, Gored Gored, Bozena Shiro.\\nQ: Describe Kitfo.\\nA: Minced raw beef with spiced butter and mitmita.\\nMain: Lean raw beef, mitmita (chili spice), niter kibbeh (herb butter).\\nSides: Ayib (cheese), Gomen (greens), Injera, Kocho, Lentils, Salad.\\nQ: How can I contact the restaurant?\\nA: Email: habesha2000@gmail.com | Phone: +251 912 838 383\\n')]"
      ]
     },
     "execution_count": 7,
     "metadata": {},
     "output_type": "execute_result"
    }
   ],
   "source": [
    "pdf_loader"
   ]
  }
 ],
 "metadata": {
  "kernelspec": {
   "display_name": "Python (main)",
   "language": "python",
   "name": "directed-genai"
  },
  "language_info": {
   "codemirror_mode": {
    "name": "ipython",
    "version": 3
   },
   "file_extension": ".py",
   "mimetype": "text/x-python",
   "name": "python",
   "nbconvert_exporter": "python",
   "pygments_lexer": "ipython3",
   "version": "3.13.3"
  }
 },
 "nbformat": 4,
 "nbformat_minor": 5
}
